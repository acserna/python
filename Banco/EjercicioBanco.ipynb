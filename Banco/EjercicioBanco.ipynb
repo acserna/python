{
 "cells": [
  {
   "cell_type": "markdown",
   "metadata": {},
   "source": [
    "![title](objetivo.png)"
   ]
  },
  {
   "cell_type": "markdown",
   "metadata": {},
   "source": [
    "![title2](variables.png)"
   ]
  },
  {
   "cell_type": "markdown",
   "metadata": {},
   "source": [
    "Adicionalmente, se busca plantear un modelo que permita predecir si un cliente se suscribirá a un depósito de largo plazo.\n",
    "\n",
    "El archivo de datos es: \"bank_dataset.csv\""
   ]
  },
  {
   "cell_type": "code",
   "execution_count": 1,
   "metadata": {},
   "outputs": [],
   "source": [
    "import pandas as pd"
   ]
  },
  {
   "cell_type": "code",
   "execution_count": 4,
   "metadata": {},
   "outputs": [
    {
     "ename": "ParserError",
     "evalue": "Error tokenizing data. C error: Expected 20 fields in line 17, saw 22\n",
     "output_type": "error",
     "traceback": [
      "\u001b[0;31m---------------------------------------------------------------------------\u001b[0m",
      "\u001b[0;31mParserError\u001b[0m                               Traceback (most recent call last)",
      "\u001b[0;32m<ipython-input-4-3d62f6da2fb6>\u001b[0m in \u001b[0;36m<module>\u001b[0;34m\u001b[0m\n\u001b[0;32m----> 1\u001b[0;31m \u001b[0mpd\u001b[0m\u001b[0;34m.\u001b[0m\u001b[0mread_csv\u001b[0m\u001b[0;34m(\u001b[0m\u001b[0;34m\"bank_dataset.csv\"\u001b[0m\u001b[0;34m,\u001b[0m \u001b[0msep\u001b[0m\u001b[0;34m=\u001b[0m\u001b[0;34m\";\"\u001b[0m\u001b[0;34m)\u001b[0m\u001b[0;34m\u001b[0m\u001b[0;34m\u001b[0m\u001b[0m\n\u001b[0m",
      "\u001b[0;32m~/miniconda3/lib/python3.7/site-packages/pandas/io/parsers.py\u001b[0m in \u001b[0;36mparser_f\u001b[0;34m(filepath_or_buffer, sep, delimiter, header, names, index_col, usecols, squeeze, prefix, mangle_dupe_cols, dtype, engine, converters, true_values, false_values, skipinitialspace, skiprows, skipfooter, nrows, na_values, keep_default_na, na_filter, verbose, skip_blank_lines, parse_dates, infer_datetime_format, keep_date_col, date_parser, dayfirst, cache_dates, iterator, chunksize, compression, thousands, decimal, lineterminator, quotechar, quoting, doublequote, escapechar, comment, encoding, dialect, error_bad_lines, warn_bad_lines, delim_whitespace, low_memory, memory_map, float_precision)\u001b[0m\n\u001b[1;32m    683\u001b[0m         )\n\u001b[1;32m    684\u001b[0m \u001b[0;34m\u001b[0m\u001b[0m\n\u001b[0;32m--> 685\u001b[0;31m         \u001b[0;32mreturn\u001b[0m \u001b[0m_read\u001b[0m\u001b[0;34m(\u001b[0m\u001b[0mfilepath_or_buffer\u001b[0m\u001b[0;34m,\u001b[0m \u001b[0mkwds\u001b[0m\u001b[0;34m)\u001b[0m\u001b[0;34m\u001b[0m\u001b[0;34m\u001b[0m\u001b[0m\n\u001b[0m\u001b[1;32m    686\u001b[0m \u001b[0;34m\u001b[0m\u001b[0m\n\u001b[1;32m    687\u001b[0m     \u001b[0mparser_f\u001b[0m\u001b[0;34m.\u001b[0m\u001b[0m__name__\u001b[0m \u001b[0;34m=\u001b[0m \u001b[0mname\u001b[0m\u001b[0;34m\u001b[0m\u001b[0;34m\u001b[0m\u001b[0m\n",
      "\u001b[0;32m~/miniconda3/lib/python3.7/site-packages/pandas/io/parsers.py\u001b[0m in \u001b[0;36m_read\u001b[0;34m(filepath_or_buffer, kwds)\u001b[0m\n\u001b[1;32m    461\u001b[0m \u001b[0;34m\u001b[0m\u001b[0m\n\u001b[1;32m    462\u001b[0m     \u001b[0;32mtry\u001b[0m\u001b[0;34m:\u001b[0m\u001b[0;34m\u001b[0m\u001b[0;34m\u001b[0m\u001b[0m\n\u001b[0;32m--> 463\u001b[0;31m         \u001b[0mdata\u001b[0m \u001b[0;34m=\u001b[0m \u001b[0mparser\u001b[0m\u001b[0;34m.\u001b[0m\u001b[0mread\u001b[0m\u001b[0;34m(\u001b[0m\u001b[0mnrows\u001b[0m\u001b[0;34m)\u001b[0m\u001b[0;34m\u001b[0m\u001b[0;34m\u001b[0m\u001b[0m\n\u001b[0m\u001b[1;32m    464\u001b[0m     \u001b[0;32mfinally\u001b[0m\u001b[0;34m:\u001b[0m\u001b[0;34m\u001b[0m\u001b[0;34m\u001b[0m\u001b[0m\n\u001b[1;32m    465\u001b[0m         \u001b[0mparser\u001b[0m\u001b[0;34m.\u001b[0m\u001b[0mclose\u001b[0m\u001b[0;34m(\u001b[0m\u001b[0;34m)\u001b[0m\u001b[0;34m\u001b[0m\u001b[0;34m\u001b[0m\u001b[0m\n",
      "\u001b[0;32m~/miniconda3/lib/python3.7/site-packages/pandas/io/parsers.py\u001b[0m in \u001b[0;36mread\u001b[0;34m(self, nrows)\u001b[0m\n\u001b[1;32m   1152\u001b[0m     \u001b[0;32mdef\u001b[0m \u001b[0mread\u001b[0m\u001b[0;34m(\u001b[0m\u001b[0mself\u001b[0m\u001b[0;34m,\u001b[0m \u001b[0mnrows\u001b[0m\u001b[0;34m=\u001b[0m\u001b[0;32mNone\u001b[0m\u001b[0;34m)\u001b[0m\u001b[0;34m:\u001b[0m\u001b[0;34m\u001b[0m\u001b[0;34m\u001b[0m\u001b[0m\n\u001b[1;32m   1153\u001b[0m         \u001b[0mnrows\u001b[0m \u001b[0;34m=\u001b[0m \u001b[0m_validate_integer\u001b[0m\u001b[0;34m(\u001b[0m\u001b[0;34m\"nrows\"\u001b[0m\u001b[0;34m,\u001b[0m \u001b[0mnrows\u001b[0m\u001b[0;34m)\u001b[0m\u001b[0;34m\u001b[0m\u001b[0;34m\u001b[0m\u001b[0m\n\u001b[0;32m-> 1154\u001b[0;31m         \u001b[0mret\u001b[0m \u001b[0;34m=\u001b[0m \u001b[0mself\u001b[0m\u001b[0;34m.\u001b[0m\u001b[0m_engine\u001b[0m\u001b[0;34m.\u001b[0m\u001b[0mread\u001b[0m\u001b[0;34m(\u001b[0m\u001b[0mnrows\u001b[0m\u001b[0;34m)\u001b[0m\u001b[0;34m\u001b[0m\u001b[0;34m\u001b[0m\u001b[0m\n\u001b[0m\u001b[1;32m   1155\u001b[0m \u001b[0;34m\u001b[0m\u001b[0m\n\u001b[1;32m   1156\u001b[0m         \u001b[0;31m# May alter columns / col_dict\u001b[0m\u001b[0;34m\u001b[0m\u001b[0;34m\u001b[0m\u001b[0;34m\u001b[0m\u001b[0m\n",
      "\u001b[0;32m~/miniconda3/lib/python3.7/site-packages/pandas/io/parsers.py\u001b[0m in \u001b[0;36mread\u001b[0;34m(self, nrows)\u001b[0m\n\u001b[1;32m   2057\u001b[0m     \u001b[0;32mdef\u001b[0m \u001b[0mread\u001b[0m\u001b[0;34m(\u001b[0m\u001b[0mself\u001b[0m\u001b[0;34m,\u001b[0m \u001b[0mnrows\u001b[0m\u001b[0;34m=\u001b[0m\u001b[0;32mNone\u001b[0m\u001b[0;34m)\u001b[0m\u001b[0;34m:\u001b[0m\u001b[0;34m\u001b[0m\u001b[0;34m\u001b[0m\u001b[0m\n\u001b[1;32m   2058\u001b[0m         \u001b[0;32mtry\u001b[0m\u001b[0;34m:\u001b[0m\u001b[0;34m\u001b[0m\u001b[0;34m\u001b[0m\u001b[0m\n\u001b[0;32m-> 2059\u001b[0;31m             \u001b[0mdata\u001b[0m \u001b[0;34m=\u001b[0m \u001b[0mself\u001b[0m\u001b[0;34m.\u001b[0m\u001b[0m_reader\u001b[0m\u001b[0;34m.\u001b[0m\u001b[0mread\u001b[0m\u001b[0;34m(\u001b[0m\u001b[0mnrows\u001b[0m\u001b[0;34m)\u001b[0m\u001b[0;34m\u001b[0m\u001b[0;34m\u001b[0m\u001b[0m\n\u001b[0m\u001b[1;32m   2060\u001b[0m         \u001b[0;32mexcept\u001b[0m \u001b[0mStopIteration\u001b[0m\u001b[0;34m:\u001b[0m\u001b[0;34m\u001b[0m\u001b[0;34m\u001b[0m\u001b[0m\n\u001b[1;32m   2061\u001b[0m             \u001b[0;32mif\u001b[0m \u001b[0mself\u001b[0m\u001b[0;34m.\u001b[0m\u001b[0m_first_chunk\u001b[0m\u001b[0;34m:\u001b[0m\u001b[0;34m\u001b[0m\u001b[0;34m\u001b[0m\u001b[0m\n",
      "\u001b[0;32mpandas/_libs/parsers.pyx\u001b[0m in \u001b[0;36mpandas._libs.parsers.TextReader.read\u001b[0;34m()\u001b[0m\n",
      "\u001b[0;32mpandas/_libs/parsers.pyx\u001b[0m in \u001b[0;36mpandas._libs.parsers.TextReader._read_low_memory\u001b[0;34m()\u001b[0m\n",
      "\u001b[0;32mpandas/_libs/parsers.pyx\u001b[0m in \u001b[0;36mpandas._libs.parsers.TextReader._read_rows\u001b[0;34m()\u001b[0m\n",
      "\u001b[0;32mpandas/_libs/parsers.pyx\u001b[0m in \u001b[0;36mpandas._libs.parsers.TextReader._tokenize_rows\u001b[0;34m()\u001b[0m\n",
      "\u001b[0;32mpandas/_libs/parsers.pyx\u001b[0m in \u001b[0;36mpandas._libs.parsers.raise_parser_error\u001b[0;34m()\u001b[0m\n",
      "\u001b[0;31mParserError\u001b[0m: Error tokenizing data. C error: Expected 20 fields in line 17, saw 22\n"
     ]
    }
   ],
   "source": [
    "pd.read_csv(\"bank_dataset.csv\", sep=\";\")"
   ]
  },
  {
   "cell_type": "code",
   "execution_count": 35,
   "metadata": {},
   "outputs": [],
   "source": [
    "f = open(\"bank_dataset.csv\", \"r\", encoding=\"utf-8\")"
   ]
  },
  {
   "cell_type": "code",
   "execution_count": 36,
   "metadata": {},
   "outputs": [],
   "source": [
    "lineas = f.readlines()"
   ]
  },
  {
   "cell_type": "code",
   "execution_count": 37,
   "metadata": {},
   "outputs": [
    {
     "data": {
      "text/plain": [
       "45212"
      ]
     },
     "execution_count": 37,
     "metadata": {},
     "output_type": "execute_result"
    }
   ],
   "source": [
    "len(lineas)"
   ]
  },
  {
   "cell_type": "code",
   "execution_count": 19,
   "metadata": {},
   "outputs": [],
   "source": [
    "texto = \"hola,soy,andres,camilo\""
   ]
  },
  {
   "cell_type": "code",
   "execution_count": 20,
   "metadata": {},
   "outputs": [
    {
     "data": {
      "text/plain": [
       "3"
      ]
     },
     "execution_count": 20,
     "metadata": {},
     "output_type": "execute_result"
    }
   ],
   "source": [
    "len(texto.split(\",\")) - 1"
   ]
  },
  {
   "cell_type": "code",
   "execution_count": 23,
   "metadata": {},
   "outputs": [
    {
     "data": {
      "text/plain": [
       "[0, 0, 0, 0, 1, 0, 0, 0, 1, 0, 0, 0, 0, 0, 0, 1, 0, 0, 0, 0, 0, 0]"
      ]
     },
     "execution_count": 23,
     "metadata": {},
     "output_type": "execute_result"
    }
   ],
   "source": [
    "[1 if letra == \",\" else 0 for letra in texto]"
   ]
  },
  {
   "cell_type": "code",
   "execution_count": 25,
   "metadata": {},
   "outputs": [],
   "source": [
    "punto_y_comas = 19"
   ]
  },
  {
   "cell_type": "code",
   "execution_count": 38,
   "metadata": {},
   "outputs": [],
   "source": [
    "lineas_incorrectas = {}\n",
    "for indice, linea in enumerate(lineas):\n",
    "    numero_punto_y_comas_en_la_linea = len(linea.split(\";\"))-1\n",
    "    if numero_punto_y_comas_en_la_linea != punto_y_comas:\n",
    "        lineas_incorrectas[indice] = linea"
   ]
  },
  {
   "cell_type": "code",
   "execution_count": null,
   "metadata": {},
   "outputs": [],
   "source": [
    "2 POSICONES"
   ]
  },
  {
   "cell_type": "code",
   "execution_count": null,
   "metadata": {},
   "outputs": [],
   "source": [
    "\"A;B;C;D;E\"\n",
    "[A,B,C,D,E]"
   ]
  },
  {
   "cell_type": "code",
   "execution_count": null,
   "metadata": {},
   "outputs": [],
   "source": []
  },
  {
   "cell_type": "code",
   "execution_count": 46,
   "metadata": {},
   "outputs": [
    {
     "data": {
      "text/plain": [
       "';;51;retired;married;primary;no;229;yes;no;unknown;5;may;2012;no;0;353;1;-1;0;unknown;no\\n'"
      ]
     },
     "execution_count": 46,
     "metadata": {},
     "output_type": "execute_result"
    }
   ],
   "source": [
    "lineas_incorrectas[16]"
   ]
  },
  {
   "cell_type": "code",
   "execution_count": 50,
   "metadata": {},
   "outputs": [],
   "source": [
    "copia_lineas_incorrectas = lineas_incorrectas.copy()\n",
    "for indice, linea in copia_lineas_incorrectas.items():\n",
    "    posicion_no_es_punto_y_coma = min([\n",
    "        indice_caracter\n",
    "        for indice_caracter, caracter in enumerate(linea)\n",
    "        if caracter != \";\"\n",
    "    ])\n",
    "    linea = copia_lineas_incorrectas[indice][posicion_no_es_punto_y_coma:]\n",
    "    \n",
    "    linea = linea.replace(\"\\n\", \"\")\n",
    "    linea = \";\".join(linea.split(\";\")[:punto_y_comas+1])\n",
    "    \n",
    "    copia_lineas_incorrectas[indice] = linea + \"\\n\""
   ]
  },
  {
   "cell_type": "code",
   "execution_count": 51,
   "metadata": {},
   "outputs": [
    {
     "data": {
      "text/plain": [
       "{16: '51;retired;married;primary;no;229;yes;no;unknown;5;may;2012;no;0;353;1;-1;0;unknown;no\\n',\n",
       " 3704: '31;admin.;divorced;tertiary;no;146;yes;no;unknown;16;may;2013;yes;3;297;1;-1;0;unknown;no\\n',\n",
       " 10679: '45;management;married;tertiary;no;203;no;no;unknown;16;jun;2010;no;0;202;4;-1;0;unknown;no\\n',\n",
       " 20244: '41;technician;divorced;tertiary;NoLoDude;3465;yes;no;cellular;11;aug;2012;yes;4;389;4;-1;0;unknown;no\\n',\n",
       " 20820: '51;technician;married;secondary;no;805;no;no;cellular;13;aug;2008;yes;1;270;2;-1;0;unknown;no\\n',\n",
       " 21293: '42;self-employed;single;tertiary;no;1225;no;no;cellular;18;aug;2009;yes;4;104;3;-1;0;unknown;no\\n',\n",
       " 23407: '39;management;single;secondary;no;113;yes;no;telephone;27;aug;2008;yes;1;23;9;-1;0;unknown;no\\n',\n",
       " 32566: '52;blue-collar;married;secondary;no;1374;yes;no;cellular;17;apr;2010;no;0;267;2;322;1;failure;no\\n',\n",
       " 33247: '31;blue-collar;single;secondary;no;88;yes;no;cellular;20;apr;2012;yes;3;21;5;-1;0;unknown;no\\n',\n",
       " 35306: '31;blue-collar;single;secondary;no;1882;no;no;cellular;7;may;2011;yes;1;529;2;-1;0;unknown;no\\n',\n",
       " 35686: '42;blue-collar;divorced;primary;no;28;yes;no;cellular;8;may;2009;no;0;213;5;-1;0;unknown;no\\n',\n",
       " 36145: '35;services;married;secondary;no;240;yes;yes;cellular;11;may;2011;no;0;161;2;-1;0;unknown;no\\n',\n",
       " 43418: '50;blue-collar;married;primary;no;82;no;no;telephone;5;apr;2012;no;0;456;1;-1;0;unknown;yes\\n',\n",
       " 43721: '57,retired,married,primary,no,9367,no,no,cellular,14,may,2013,no,0,700,4,92,7,success,yes\\n',\n",
       " 45020: '57;admin.;married;secondary;no;16873;no;no;cellular;14;oct;2012;yes;4;219;3;372;1;failure;no\\n'}"
      ]
     },
     "execution_count": 51,
     "metadata": {},
     "output_type": "execute_result"
    }
   ],
   "source": [
    "copia_lineas_incorrectas"
   ]
  },
  {
   "cell_type": "code",
   "execution_count": null,
   "metadata": {},
   "outputs": [],
   "source": []
  },
  {
   "cell_type": "code",
   "execution_count": null,
   "metadata": {},
   "outputs": [],
   "source": []
  },
  {
   "cell_type": "code",
   "execution_count": 33,
   "metadata": {},
   "outputs": [
    {
     "data": {
      "text/plain": [
       "{10679: '45;management;married;tertiary;no;203;no;no;unknown;16;jun;2010;no;0;202;4;-1;0;unknown;no;;;;;\\n',\n",
       " 20244: ';;;41;technician;divorced;tertiary;NoLoDude;3465;yes;no;cellular;11;aug;2012;yes;4;389;4;-1;0;unknown;no;;;;\\n',\n",
       " 20820: ';;;;;51;technician;married;secondary;no;805;no;no;cellular;13;aug;2008;yes;1;270;2;-1;0;unknown;no;;;\\n',\n",
       " 21293: ';;;42;self-employed;single;tertiary;no;1225;no;no;cellular;18;aug;2009;yes;4;104;3;-1;0;unknown;no\\n',\n",
       " 23407: '39;management;single;secondary;no;113;yes;no;telephone;27;aug;2008;yes;1;23;9;-1;0;unknown;no;\\n',\n",
       " 32566: ';;;;52;blue-collar;married;secondary;no;1374;yes;no;cellular;17;apr;2010;no;0;267;2;322;1;failure;no;;;;\\n',\n",
       " 33247: '31;blue-collar;single;secondary;no;88;yes;no;cellular;20;apr;2012;yes;3;21;5;-1;0;unknown;no;;;;;☞😡  𝒽ㄖ𝓁𝒶 α๏ｙ ค𝐧ＤＲ𝓔ᔕ  💀♙\\n',\n",
       " 35306: ';;;;31;blue-collar;single;secondary;no;1882;no;no;cellular;7;may;2011;yes;1;529;2;-1;0;unknown;no;;;;\\n',\n",
       " 35686: ';;;;42;blue-collar;divorced;primary;no;28;yes;no;cellular;8;may;2009;no;0;213;5;-1;0;unknown;no;;;;\\n',\n",
       " 36145: '35;services;married;secondary;no;240;yes;yes;cellular;11;may;2011;no;0;161;2;-1;0;unknown;no;\\n',\n",
       " 43418: '50;blue-collar;married;primary;no;82;no;no;telephone;5;apr;2012;no;0;456;1;-1;0;unknown;yes;\\n',\n",
       " 43721: '57,retired,married,primary,no,9367,no,no,cellular,14,may,2013,no,0,700,4,92,7,success,yes\\n',\n",
       " 45020: ';;57;admin.;married;secondary;no;16873;no;no;cellular;14;oct;2012;yes;4;219;3;372;1;failure;no\\n'}"
      ]
     },
     "execution_count": 33,
     "metadata": {},
     "output_type": "execute_result"
    }
   ],
   "source": [
    "{\n",
    "    indice: linea\n",
    "    for indice, linea in enumerate(lineas)\n",
    "    if len(linea.split(\";\"))-1 != punto_y_comas\n",
    "}"
   ]
  },
  {
   "cell_type": "code",
   "execution_count": 34,
   "metadata": {},
   "outputs": [
    {
     "data": {
      "text/plain": [
       "{10679: '45;management;married;tertiary;no;203;no;no;unknown;16;jun;2010;no;0;202;4;-1;0;unknown;no;;;;;\\n',\n",
       " 20244: ';;;41;technician;divorced;tertiary;NoLoDude;3465;yes;no;cellular;11;aug;2012;yes;4;389;4;-1;0;unknown;no;;;;\\n',\n",
       " 20820: ';;;;;51;technician;married;secondary;no;805;no;no;cellular;13;aug;2008;yes;1;270;2;-1;0;unknown;no;;;\\n',\n",
       " 21293: ';;;42;self-employed;single;tertiary;no;1225;no;no;cellular;18;aug;2009;yes;4;104;3;-1;0;unknown;no\\n',\n",
       " 23407: '39;management;single;secondary;no;113;yes;no;telephone;27;aug;2008;yes;1;23;9;-1;0;unknown;no;\\n',\n",
       " 32566: ';;;;52;blue-collar;married;secondary;no;1374;yes;no;cellular;17;apr;2010;no;0;267;2;322;1;failure;no;;;;\\n',\n",
       " 33247: '31;blue-collar;single;secondary;no;88;yes;no;cellular;20;apr;2012;yes;3;21;5;-1;0;unknown;no;;;;;☞😡  𝒽ㄖ𝓁𝒶 α๏ｙ ค𝐧ＤＲ𝓔ᔕ  💀♙\\n',\n",
       " 35306: ';;;;31;blue-collar;single;secondary;no;1882;no;no;cellular;7;may;2011;yes;1;529;2;-1;0;unknown;no;;;;\\n',\n",
       " 35686: ';;;;42;blue-collar;divorced;primary;no;28;yes;no;cellular;8;may;2009;no;0;213;5;-1;0;unknown;no;;;;\\n',\n",
       " 36145: '35;services;married;secondary;no;240;yes;yes;cellular;11;may;2011;no;0;161;2;-1;0;unknown;no;\\n',\n",
       " 43418: '50;blue-collar;married;primary;no;82;no;no;telephone;5;apr;2012;no;0;456;1;-1;0;unknown;yes;\\n',\n",
       " 43721: '57,retired,married,primary,no,9367,no,no,cellular,14,may,2013,no,0,700,4,92,7,success,yes\\n',\n",
       " 45020: ';;57;admin.;married;secondary;no;16873;no;no;cellular;14;oct;2012;yes;4;219;3;372;1;failure;no\\n'}"
      ]
     },
     "execution_count": 34,
     "metadata": {},
     "output_type": "execute_result"
    }
   ],
   "source": [
    "lineas_incorrectas"
   ]
  },
  {
   "cell_type": "code",
   "execution_count": null,
   "metadata": {},
   "outputs": [],
   "source": []
  },
  {
   "cell_type": "code",
   "execution_count": null,
   "metadata": {},
   "outputs": [],
   "source": []
  },
  {
   "cell_type": "code",
   "execution_count": null,
   "metadata": {},
   "outputs": [],
   "source": []
  }
 ],
 "metadata": {
  "kernelspec": {
   "display_name": "Python 3",
   "language": "python",
   "name": "python3"
  },
  "language_info": {
   "codemirror_mode": {
    "name": "ipython",
    "version": 3
   },
   "file_extension": ".py",
   "mimetype": "text/x-python",
   "name": "python",
   "nbconvert_exporter": "python",
   "pygments_lexer": "ipython3",
   "version": "3.7.3"
  }
 },
 "nbformat": 4,
 "nbformat_minor": 2
}
